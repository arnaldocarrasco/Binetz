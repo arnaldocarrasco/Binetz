{
 "cells": [
  {
   "cell_type": "code",
   "id": "initial_id",
   "metadata": {
    "collapsed": true,
    "ExecuteTime": {
     "end_time": "2025-02-19T20:01:25.203388Z",
     "start_time": "2025-02-19T20:01:24.357626Z"
    }
   },
   "source": [
    "import pandas as pd\n",
    "\n",
    "# Pigmento\n",
    "# Ruta al archivo de Excel (asegúrate de ajustar la ruta a tu archivo)\n",
    "file_path = \"C:\\\\Users\\\\ArnaldoCarrasco\\\\Downloads\\\\202501 (2).xlsx\"\n",
    "# Cargar el archivo de Excel en un DataFrame\n",
    "farmalife = pd.read_excel(file_path, sheet_name=\"Hoja1\")\n",
    "print(\"Archivo cargado con éxito.\")\n",
    "file_path2 = \"C:\\\\Users\\\\ArnaldoCarrasco\\\\Downloads\\\\GPS (2).xlsx\"\n",
    "# Cargar el archivo de Excel en un DataFrame\n",
    "gps = pd.read_excel(file_path2, sheet_name=\"GPS\")\n",
    "print(\"Archivo cargado con éxito.\")"
   ],
   "outputs": [
    {
     "name": "stdout",
     "output_type": "stream",
     "text": [
      "Archivo cargado con éxito.\n",
      "Archivo cargado con éxito.\n"
     ]
    }
   ],
   "execution_count": 15
  },
  {
   "metadata": {
    "ExecuteTime": {
     "end_time": "2025-02-19T20:01:26.002717Z",
     "start_time": "2025-02-19T20:01:25.997176Z"
    }
   },
   "cell_type": "code",
   "source": "farmalife = farmalife.drop(columns=[\"iD\", \"Laboratorio\", \"Vend. Totales\", \"Ventas Sucursal\", \"Ventas eCommerce\"])\n",
   "id": "77ec2f455cb4ea5",
   "outputs": [],
   "execution_count": 16
  },
  {
   "metadata": {
    "ExecuteTime": {
     "end_time": "2025-02-19T20:01:27.053980Z",
     "start_time": "2025-02-19T20:01:27.026589Z"
    }
   },
   "cell_type": "code",
   "source": [
    "farmalife_melted = farmalife.melt(id_vars=['Codebar','Producto'],\n",
    "                    var_name='Punto de Venta',\n",
    "                    value_name='Cantidad')\n",
    "farmalife_melted['Cantidad'] = farmalife_melted['Cantidad'].fillna(0).astype(int)\n",
    "farmalife_melted['Cantidad'] = farmalife_melted['Cantidad'].astype(int)\n",
    "cb_melted = farmalife_melted.drop(farmalife_melted[farmalife_melted['Cantidad'] == 0].index)\n",
    "farmalife_melted = farmalife_melted.drop(farmalife_melted[farmalife_melted['Cantidad'] == 0].index)\n",
    "\n",
    "\n",
    "farmalife_melted"
   ],
   "id": "3f3e9d238fc7121a",
   "outputs": [
    {
     "data": {
      "text/plain": [
       "             Codebar                                     Producto  \\\n",
       "6      3616305447067         Adidas Energy Drive Edp 100Ml Unisex   \n",
       "13     3616304693656                     Adidas Uefa 10 Edt 100Ml   \n",
       "15     3616302020652             Burberry Goddess Fem Edp X 100Ml   \n",
       "50       88300162505  Calvin Klein Euphoria For Women Edp X 100Ml   \n",
       "54     3614229656145            Calvin Klein Everyone Edt X 100Ml   \n",
       "...              ...                                          ...   \n",
       "72460  7891182016148        Risque Esmalte Leo Mandaou Flores 270   \n",
       "72465  7891182820110                   Risque Esmalte Melissa 070   \n",
       "72468  7891182036023    Risque Esmalte N Renda Br Rendinha Bl 8Ml   \n",
       "72475  7891182830010                   Risque Esmalte Platino 060   \n",
       "72498  7891182035965                 Risque Esmalte Vidrilhos 030   \n",
       "\n",
       "         Punto de Venta  Cantidad  \n",
       "6       Vend. _ANASTASI         1  \n",
       "13      Vend. _ANASTASI         1  \n",
       "15      Vend. _ANASTASI        -1  \n",
       "50      Vend. _ANASTASI         1  \n",
       "54      Vend. _ANASTASI         1  \n",
       "...                 ...       ...  \n",
       "72460  Vend. _VILLAFAÑE         1  \n",
       "72465  Vend. _VILLAFAÑE         1  \n",
       "72468  Vend. _VILLAFAÑE         1  \n",
       "72475  Vend. _VILLAFAÑE         1  \n",
       "72498  Vend. _VILLAFAÑE         1  \n",
       "\n",
       "[3465 rows x 4 columns]"
      ],
      "text/html": [
       "<div>\n",
       "<style scoped>\n",
       "    .dataframe tbody tr th:only-of-type {\n",
       "        vertical-align: middle;\n",
       "    }\n",
       "\n",
       "    .dataframe tbody tr th {\n",
       "        vertical-align: top;\n",
       "    }\n",
       "\n",
       "    .dataframe thead th {\n",
       "        text-align: right;\n",
       "    }\n",
       "</style>\n",
       "<table border=\"1\" class=\"dataframe\">\n",
       "  <thead>\n",
       "    <tr style=\"text-align: right;\">\n",
       "      <th></th>\n",
       "      <th>Codebar</th>\n",
       "      <th>Producto</th>\n",
       "      <th>Punto de Venta</th>\n",
       "      <th>Cantidad</th>\n",
       "    </tr>\n",
       "  </thead>\n",
       "  <tbody>\n",
       "    <tr>\n",
       "      <th>6</th>\n",
       "      <td>3616305447067</td>\n",
       "      <td>Adidas Energy Drive Edp 100Ml Unisex</td>\n",
       "      <td>Vend. _ANASTASI</td>\n",
       "      <td>1</td>\n",
       "    </tr>\n",
       "    <tr>\n",
       "      <th>13</th>\n",
       "      <td>3616304693656</td>\n",
       "      <td>Adidas Uefa 10 Edt 100Ml</td>\n",
       "      <td>Vend. _ANASTASI</td>\n",
       "      <td>1</td>\n",
       "    </tr>\n",
       "    <tr>\n",
       "      <th>15</th>\n",
       "      <td>3616302020652</td>\n",
       "      <td>Burberry Goddess Fem Edp X 100Ml</td>\n",
       "      <td>Vend. _ANASTASI</td>\n",
       "      <td>-1</td>\n",
       "    </tr>\n",
       "    <tr>\n",
       "      <th>50</th>\n",
       "      <td>88300162505</td>\n",
       "      <td>Calvin Klein Euphoria For Women Edp X 100Ml</td>\n",
       "      <td>Vend. _ANASTASI</td>\n",
       "      <td>1</td>\n",
       "    </tr>\n",
       "    <tr>\n",
       "      <th>54</th>\n",
       "      <td>3614229656145</td>\n",
       "      <td>Calvin Klein Everyone Edt X 100Ml</td>\n",
       "      <td>Vend. _ANASTASI</td>\n",
       "      <td>1</td>\n",
       "    </tr>\n",
       "    <tr>\n",
       "      <th>...</th>\n",
       "      <td>...</td>\n",
       "      <td>...</td>\n",
       "      <td>...</td>\n",
       "      <td>...</td>\n",
       "    </tr>\n",
       "    <tr>\n",
       "      <th>72460</th>\n",
       "      <td>7891182016148</td>\n",
       "      <td>Risque Esmalte Leo Mandaou Flores 270</td>\n",
       "      <td>Vend. _VILLAFAÑE</td>\n",
       "      <td>1</td>\n",
       "    </tr>\n",
       "    <tr>\n",
       "      <th>72465</th>\n",
       "      <td>7891182820110</td>\n",
       "      <td>Risque Esmalte Melissa 070</td>\n",
       "      <td>Vend. _VILLAFAÑE</td>\n",
       "      <td>1</td>\n",
       "    </tr>\n",
       "    <tr>\n",
       "      <th>72468</th>\n",
       "      <td>7891182036023</td>\n",
       "      <td>Risque Esmalte N Renda Br Rendinha Bl 8Ml</td>\n",
       "      <td>Vend. _VILLAFAÑE</td>\n",
       "      <td>1</td>\n",
       "    </tr>\n",
       "    <tr>\n",
       "      <th>72475</th>\n",
       "      <td>7891182830010</td>\n",
       "      <td>Risque Esmalte Platino 060</td>\n",
       "      <td>Vend. _VILLAFAÑE</td>\n",
       "      <td>1</td>\n",
       "    </tr>\n",
       "    <tr>\n",
       "      <th>72498</th>\n",
       "      <td>7891182035965</td>\n",
       "      <td>Risque Esmalte Vidrilhos 030</td>\n",
       "      <td>Vend. _VILLAFAÑE</td>\n",
       "      <td>1</td>\n",
       "    </tr>\n",
       "  </tbody>\n",
       "</table>\n",
       "<p>3465 rows × 4 columns</p>\n",
       "</div>"
      ]
     },
     "execution_count": 17,
     "metadata": {},
     "output_type": "execute_result"
    }
   ],
   "execution_count": 17
  },
  {
   "metadata": {
    "ExecuteTime": {
     "end_time": "2025-02-19T20:08:55.501292Z",
     "start_time": "2025-02-19T20:08:55.476412Z"
    }
   },
   "cell_type": "code",
   "source": [
    "farmalife_melted = farmalife_melted.merge(gps[['Código Coty']], how='left', left_on='Punto de Venta', right_on='Codigo cliente')\n",
    "farmalife_melted"
   ],
   "id": "e85c1b3a65244d2f",
   "outputs": [
    {
     "ename": "KeyError",
     "evalue": "'Codigo cliente'",
     "output_type": "error",
     "traceback": [
      "\u001B[1;31m---------------------------------------------------------------------------\u001B[0m",
      "\u001B[1;31mKeyError\u001B[0m                                  Traceback (most recent call last)",
      "\u001B[1;32m~\\AppData\\Local\\Temp\\ipykernel_6096\\346001992.py\u001B[0m in \u001B[0;36m?\u001B[1;34m()\u001B[0m\n\u001B[1;32m----> 1\u001B[1;33m \u001B[0mfarmalife_melted\u001B[0m \u001B[1;33m=\u001B[0m \u001B[0mfarmalife_melted\u001B[0m\u001B[1;33m.\u001B[0m\u001B[0mmerge\u001B[0m\u001B[1;33m(\u001B[0m\u001B[0mgps\u001B[0m\u001B[1;33m[\u001B[0m\u001B[1;33m[\u001B[0m\u001B[1;34m'Código Coty'\u001B[0m\u001B[1;33m]\u001B[0m\u001B[1;33m]\u001B[0m\u001B[1;33m,\u001B[0m \u001B[0mhow\u001B[0m\u001B[1;33m=\u001B[0m\u001B[1;34m'left'\u001B[0m\u001B[1;33m,\u001B[0m \u001B[0mleft_on\u001B[0m\u001B[1;33m=\u001B[0m\u001B[1;34m'Punto de Venta'\u001B[0m\u001B[1;33m,\u001B[0m \u001B[0mright_on\u001B[0m\u001B[1;33m=\u001B[0m\u001B[1;34m'Codigo cliente'\u001B[0m\u001B[1;33m)\u001B[0m\u001B[1;33m\u001B[0m\u001B[1;33m\u001B[0m\u001B[0m\n\u001B[0m\u001B[0;32m      2\u001B[0m \u001B[0mfarmalife_melted\u001B[0m\u001B[1;33m\u001B[0m\u001B[1;33m\u001B[0m\u001B[0m\n",
      "\u001B[1;32m~\\anaconda3\\Lib\\site-packages\\pandas\\core\\frame.py\u001B[0m in \u001B[0;36m?\u001B[1;34m(self, right, how, on, left_on, right_on, left_index, right_index, sort, suffixes, copy, indicator, validate)\u001B[0m\n\u001B[0;32m  10089\u001B[0m         \u001B[0mvalidate\u001B[0m\u001B[1;33m:\u001B[0m \u001B[0mstr\u001B[0m \u001B[1;33m|\u001B[0m \u001B[1;32mNone\u001B[0m \u001B[1;33m=\u001B[0m \u001B[1;32mNone\u001B[0m\u001B[1;33m,\u001B[0m\u001B[1;33m\u001B[0m\u001B[1;33m\u001B[0m\u001B[0m\n\u001B[0;32m  10090\u001B[0m     ) -> DataFrame:\n\u001B[0;32m  10091\u001B[0m         \u001B[1;32mfrom\u001B[0m \u001B[0mpandas\u001B[0m\u001B[1;33m.\u001B[0m\u001B[0mcore\u001B[0m\u001B[1;33m.\u001B[0m\u001B[0mreshape\u001B[0m\u001B[1;33m.\u001B[0m\u001B[0mmerge\u001B[0m \u001B[1;32mimport\u001B[0m \u001B[0mmerge\u001B[0m\u001B[1;33m\u001B[0m\u001B[1;33m\u001B[0m\u001B[0m\n\u001B[0;32m  10092\u001B[0m \u001B[1;33m\u001B[0m\u001B[0m\n\u001B[1;32m> 10093\u001B[1;33m         return merge(\n\u001B[0m\u001B[0;32m  10094\u001B[0m             \u001B[0mself\u001B[0m\u001B[1;33m,\u001B[0m\u001B[1;33m\u001B[0m\u001B[1;33m\u001B[0m\u001B[0m\n\u001B[0;32m  10095\u001B[0m             \u001B[0mright\u001B[0m\u001B[1;33m,\u001B[0m\u001B[1;33m\u001B[0m\u001B[1;33m\u001B[0m\u001B[0m\n\u001B[0;32m  10096\u001B[0m             \u001B[0mhow\u001B[0m\u001B[1;33m=\u001B[0m\u001B[0mhow\u001B[0m\u001B[1;33m,\u001B[0m\u001B[1;33m\u001B[0m\u001B[1;33m\u001B[0m\u001B[0m\n",
      "\u001B[1;32m~\\anaconda3\\Lib\\site-packages\\pandas\\core\\reshape\\merge.py\u001B[0m in \u001B[0;36m?\u001B[1;34m(left, right, how, on, left_on, right_on, left_index, right_index, sort, suffixes, copy, indicator, validate)\u001B[0m\n\u001B[0;32m    106\u001B[0m     \u001B[0mcopy\u001B[0m\u001B[1;33m:\u001B[0m \u001B[0mbool\u001B[0m \u001B[1;33m=\u001B[0m \u001B[1;32mTrue\u001B[0m\u001B[1;33m,\u001B[0m\u001B[1;33m\u001B[0m\u001B[1;33m\u001B[0m\u001B[0m\n\u001B[0;32m    107\u001B[0m     \u001B[0mindicator\u001B[0m\u001B[1;33m:\u001B[0m \u001B[0mbool\u001B[0m \u001B[1;33m=\u001B[0m \u001B[1;32mFalse\u001B[0m\u001B[1;33m,\u001B[0m\u001B[1;33m\u001B[0m\u001B[1;33m\u001B[0m\u001B[0m\n\u001B[0;32m    108\u001B[0m     \u001B[0mvalidate\u001B[0m\u001B[1;33m:\u001B[0m \u001B[0mstr\u001B[0m \u001B[1;33m|\u001B[0m \u001B[1;32mNone\u001B[0m \u001B[1;33m=\u001B[0m \u001B[1;32mNone\u001B[0m\u001B[1;33m,\u001B[0m\u001B[1;33m\u001B[0m\u001B[1;33m\u001B[0m\u001B[0m\n\u001B[0;32m    109\u001B[0m ) -> DataFrame:\n\u001B[1;32m--> 110\u001B[1;33m     op = _MergeOperation(\n\u001B[0m\u001B[0;32m    111\u001B[0m         \u001B[0mleft\u001B[0m\u001B[1;33m,\u001B[0m\u001B[1;33m\u001B[0m\u001B[1;33m\u001B[0m\u001B[0m\n\u001B[0;32m    112\u001B[0m         \u001B[0mright\u001B[0m\u001B[1;33m,\u001B[0m\u001B[1;33m\u001B[0m\u001B[1;33m\u001B[0m\u001B[0m\n\u001B[0;32m    113\u001B[0m         \u001B[0mhow\u001B[0m\u001B[1;33m=\u001B[0m\u001B[0mhow\u001B[0m\u001B[1;33m,\u001B[0m\u001B[1;33m\u001B[0m\u001B[1;33m\u001B[0m\u001B[0m\n",
      "\u001B[1;32m~\\anaconda3\\Lib\\site-packages\\pandas\\core\\reshape\\merge.py\u001B[0m in \u001B[0;36m?\u001B[1;34m(self, left, right, how, on, left_on, right_on, axis, left_index, right_index, sort, suffixes, indicator, validate)\u001B[0m\n\u001B[0;32m    699\u001B[0m         (\n\u001B[0;32m    700\u001B[0m             \u001B[0mself\u001B[0m\u001B[1;33m.\u001B[0m\u001B[0mleft_join_keys\u001B[0m\u001B[1;33m,\u001B[0m\u001B[1;33m\u001B[0m\u001B[1;33m\u001B[0m\u001B[0m\n\u001B[0;32m    701\u001B[0m             \u001B[0mself\u001B[0m\u001B[1;33m.\u001B[0m\u001B[0mright_join_keys\u001B[0m\u001B[1;33m,\u001B[0m\u001B[1;33m\u001B[0m\u001B[1;33m\u001B[0m\u001B[0m\n\u001B[0;32m    702\u001B[0m             \u001B[0mself\u001B[0m\u001B[1;33m.\u001B[0m\u001B[0mjoin_names\u001B[0m\u001B[1;33m,\u001B[0m\u001B[1;33m\u001B[0m\u001B[1;33m\u001B[0m\u001B[0m\n\u001B[1;32m--> 703\u001B[1;33m         ) = self._get_merge_keys()\n\u001B[0m\u001B[0;32m    704\u001B[0m \u001B[1;33m\u001B[0m\u001B[0m\n\u001B[0;32m    705\u001B[0m         \u001B[1;31m# validate the merge keys dtypes. We may need to coerce\u001B[0m\u001B[1;33m\u001B[0m\u001B[1;33m\u001B[0m\u001B[0m\n\u001B[0;32m    706\u001B[0m         \u001B[1;31m# to avoid incompatible dtypes\u001B[0m\u001B[1;33m\u001B[0m\u001B[1;33m\u001B[0m\u001B[0m\n",
      "\u001B[1;32m~\\anaconda3\\Lib\\site-packages\\pandas\\core\\reshape\\merge.py\u001B[0m in \u001B[0;36m?\u001B[1;34m(self)\u001B[0m\n\u001B[0;32m   1158\u001B[0m                         \u001B[1;31m# Then we're either Hashable or a wrong-length arraylike,\u001B[0m\u001B[1;33m\u001B[0m\u001B[1;33m\u001B[0m\u001B[0m\n\u001B[0;32m   1159\u001B[0m                         \u001B[1;31m#  the latter of which will raise\u001B[0m\u001B[1;33m\u001B[0m\u001B[1;33m\u001B[0m\u001B[0m\n\u001B[0;32m   1160\u001B[0m                         \u001B[0mrk\u001B[0m \u001B[1;33m=\u001B[0m \u001B[0mcast\u001B[0m\u001B[1;33m(\u001B[0m\u001B[0mHashable\u001B[0m\u001B[1;33m,\u001B[0m \u001B[0mrk\u001B[0m\u001B[1;33m)\u001B[0m\u001B[1;33m\u001B[0m\u001B[1;33m\u001B[0m\u001B[0m\n\u001B[0;32m   1161\u001B[0m                         \u001B[1;32mif\u001B[0m \u001B[0mrk\u001B[0m \u001B[1;32mis\u001B[0m \u001B[1;32mnot\u001B[0m \u001B[1;32mNone\u001B[0m\u001B[1;33m:\u001B[0m\u001B[1;33m\u001B[0m\u001B[1;33m\u001B[0m\u001B[0m\n\u001B[1;32m-> 1162\u001B[1;33m                             \u001B[0mright_keys\u001B[0m\u001B[1;33m.\u001B[0m\u001B[0mappend\u001B[0m\u001B[1;33m(\u001B[0m\u001B[0mright\u001B[0m\u001B[1;33m.\u001B[0m\u001B[0m_get_label_or_level_values\u001B[0m\u001B[1;33m(\u001B[0m\u001B[0mrk\u001B[0m\u001B[1;33m)\u001B[0m\u001B[1;33m)\u001B[0m\u001B[1;33m\u001B[0m\u001B[1;33m\u001B[0m\u001B[0m\n\u001B[0m\u001B[0;32m   1163\u001B[0m                         \u001B[1;32melse\u001B[0m\u001B[1;33m:\u001B[0m\u001B[1;33m\u001B[0m\u001B[1;33m\u001B[0m\u001B[0m\n\u001B[0;32m   1164\u001B[0m                             \u001B[1;31m# work-around for merge_asof(right_index=True)\u001B[0m\u001B[1;33m\u001B[0m\u001B[1;33m\u001B[0m\u001B[0m\n\u001B[0;32m   1165\u001B[0m                             \u001B[0mright_keys\u001B[0m\u001B[1;33m.\u001B[0m\u001B[0mappend\u001B[0m\u001B[1;33m(\u001B[0m\u001B[0mright\u001B[0m\u001B[1;33m.\u001B[0m\u001B[0mindex\u001B[0m\u001B[1;33m)\u001B[0m\u001B[1;33m\u001B[0m\u001B[1;33m\u001B[0m\u001B[0m\n",
      "\u001B[1;32m~\\anaconda3\\Lib\\site-packages\\pandas\\core\\generic.py\u001B[0m in \u001B[0;36m?\u001B[1;34m(self, key, axis)\u001B[0m\n\u001B[0;32m   1846\u001B[0m                 \u001B[1;33m.\u001B[0m\u001B[0mget_level_values\u001B[0m\u001B[1;33m(\u001B[0m\u001B[0mkey\u001B[0m\u001B[1;33m)\u001B[0m  \u001B[1;31m# type: ignore[assignment]\u001B[0m\u001B[1;33m\u001B[0m\u001B[1;33m\u001B[0m\u001B[0m\n\u001B[0;32m   1847\u001B[0m                 \u001B[1;33m.\u001B[0m\u001B[0m_values\u001B[0m\u001B[1;33m\u001B[0m\u001B[1;33m\u001B[0m\u001B[0m\n\u001B[0;32m   1848\u001B[0m             )\n\u001B[0;32m   1849\u001B[0m         \u001B[1;32melse\u001B[0m\u001B[1;33m:\u001B[0m\u001B[1;33m\u001B[0m\u001B[1;33m\u001B[0m\u001B[0m\n\u001B[1;32m-> 1850\u001B[1;33m             \u001B[1;32mraise\u001B[0m \u001B[0mKeyError\u001B[0m\u001B[1;33m(\u001B[0m\u001B[0mkey\u001B[0m\u001B[1;33m)\u001B[0m\u001B[1;33m\u001B[0m\u001B[1;33m\u001B[0m\u001B[0m\n\u001B[0m\u001B[0;32m   1851\u001B[0m \u001B[1;33m\u001B[0m\u001B[0m\n\u001B[0;32m   1852\u001B[0m         \u001B[1;31m# Check for duplicates\u001B[0m\u001B[1;33m\u001B[0m\u001B[1;33m\u001B[0m\u001B[0m\n\u001B[0;32m   1853\u001B[0m         \u001B[1;32mif\u001B[0m \u001B[0mvalues\u001B[0m\u001B[1;33m.\u001B[0m\u001B[0mndim\u001B[0m \u001B[1;33m>\u001B[0m \u001B[1;36m1\u001B[0m\u001B[1;33m:\u001B[0m\u001B[1;33m\u001B[0m\u001B[1;33m\u001B[0m\u001B[0m\n",
      "\u001B[1;31mKeyError\u001B[0m: 'Codigo cliente'"
     ]
    }
   ],
   "execution_count": 31
  },
  {
   "metadata": {
    "ExecuteTime": {
     "end_time": "2025-02-19T20:08:49.693039Z",
     "start_time": "2025-02-19T20:08:49.679332Z"
    }
   },
   "cell_type": "code",
   "source": "gps = gps.rename(columns={'Codigo cliente': 'Codigo cliente'})",
   "id": "b1b2fadbfcf022f4",
   "outputs": [],
   "execution_count": 30
  },
  {
   "metadata": {},
   "cell_type": "code",
   "outputs": [],
   "execution_count": null,
   "source": "",
   "id": "92d813caa595b489"
  }
 ],
 "metadata": {
  "kernelspec": {
   "display_name": "Python 3",
   "language": "python",
   "name": "python3"
  },
  "language_info": {
   "codemirror_mode": {
    "name": "ipython",
    "version": 2
   },
   "file_extension": ".py",
   "mimetype": "text/x-python",
   "name": "python",
   "nbconvert_exporter": "python",
   "pygments_lexer": "ipython2",
   "version": "2.7.6"
  }
 },
 "nbformat": 4,
 "nbformat_minor": 5
}
