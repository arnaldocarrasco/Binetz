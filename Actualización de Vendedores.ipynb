{
 "cells": [
  {
   "metadata": {
    "ExecuteTime": {
     "end_time": "2025-06-11T13:52:21.188918Z",
     "start_time": "2025-06-11T13:52:19.805729Z"
    }
   },
   "cell_type": "code",
   "source": [
    "from sqlalchemy import create_engine\n",
    "import pandas as pd\n",
    "import numpy as np"
   ],
   "id": "62e103bcdbfc1cf1",
   "outputs": [],
   "execution_count": 1
  },
  {
   "metadata": {
    "ExecuteTime": {
     "end_time": "2025-06-11T13:52:27.780655Z",
     "start_time": "2025-06-11T13:52:21.190807Z"
    }
   },
   "cell_type": "code",
   "source": [
    "# === CONFIGURACIÓN DE CREDENCIALES ===\n",
    "usuario = \"AR_POWERBI\"\n",
    "contrasena = \"Sim2024plit!\"\n",
    "host = \"usasuxdb263p.cotyww.com\"             # Ej: \"localhost\" o \"192.168.1.100\"\n",
    "puerto = \"1557\"              # Puerto típico de Oracle\n",
    "servicio = \"INEVPRO1\"     # Ej: \"XEPDB1\", \"ORCL\", etc.\n",
    "# === CREAR EL ENGINE DE SQLAlchemy ===\n",
    "dsn = f\"{host}:{puerto}/{servicio}\"\n",
    "engine = create_engine(f\"oracle+oracledb://{usuario}:{contrasena}@{dsn}\")\n",
    "\n",
    "# === TU CONSULTA ===\n",
    "query = \"\"\"WITH cte AS (\n",
    "SELECT s.CLIENTE, s.VENDEDOR, s.FECHA,\n",
    "ROW_NUMBER() OVER (PARTITION BY s.CLIENTE ORDER BY s.FECHA DESC) AS rn\n",
    "FROM VW_NET_REVENUE_TS_CU s\n",
    ")\n",
    "SELECT s.FECHA, cl.DESC_GRUPO_ECONOMICO, v.VENDEDOR_DESCRIPTION\n",
    "FROM cte s\n",
    "INNER JOIN VW_VENDEDOR v ON s.VENDEDOR = v.VENDEDOR\n",
    "INNER JOIN VW_CLIENTE cl ON s.CLIENTE = cl.CLIENTE\n",
    "WHERE rn = 1\n",
    "ORDER BY cl.DESC_GRUPO_ECONOMICO ASC\"\"\"  # Adaptá según lo que necesites\n",
    "\n",
    "# === ABRIR UN DBAPI2 CONNECTION Y CARGAR EN DATAFRAME ===\n",
    "conn = engine.raw_connection()\n",
    "try:\n",
    "    vendedores = pd.read_sql(query, con=conn)\n",
    "    print(\"✅ Carga Exitosa\")\n",
    "finally:\n",
    "    conn.close()"
   ],
   "id": "a3f60efa8008aac2",
   "outputs": [
    {
     "name": "stderr",
     "output_type": "stream",
     "text": [
      "C:\\Users\\ArnaldoCarrasco\\AppData\\Local\\Temp\\ipykernel_23828\\571502614.py:27: UserWarning: pandas only supports SQLAlchemy connectable (engine/connection) or database string URI or sqlite3 DBAPI2 connection. Other DBAPI2 objects are not tested. Please consider using SQLAlchemy.\n",
      "  vendedores = pd.read_sql(query, con=conn)\n"
     ]
    },
    {
     "name": "stdout",
     "output_type": "stream",
     "text": [
      "✅ Carga Exitosa\n"
     ]
    }
   ],
   "execution_count": 2
  },
  {
   "metadata": {
    "ExecuteTime": {
     "end_time": "2025-06-11T13:52:27.812547Z",
     "start_time": "2025-06-11T13:52:27.781693Z"
    }
   },
   "cell_type": "code",
   "source": [
    "# Supongamos que tu dataframe se llama simplit_productos\n",
    "vendedores.rename(columns={\n",
    "    'VENDEDOR_DESCRIPTION': 'Vendedor',\n",
    "    'DESC_GRUPO_ECONOMICO': 'Grupo Economico',\n",
    "    'FECHA': 'Fecha'\n",
    "}, inplace=True)\n",
    "\n",
    "vendedores"
   ],
   "id": "9428522aabcf8133",
   "outputs": [
    {
     "data": {
      "text/plain": [
       "         Fecha                Grupo Economico                     Vendedor\n",
       "0   2025-05-17       FARMACIA KM 47,5 S. C. S         JUAN GONZALEZ ABELLA\n",
       "1   2025-05-20              FARMACIA MARK SCS         JUAN GONZALEZ ABELLA\n",
       "2   2025-05-17        FARMATODO ARGENTINA S.A         JUAN GONZALEZ ABELLA\n",
       "3   2025-06-10  ACOFAR COOP.FARMACEUTICA LDA.               GATICA, MARCOS\n",
       "4   2025-05-21                 ACOSTA, CAMILA                         GAYF\n",
       "..         ...                            ...                          ...\n",
       "336 2023-04-12            ZABALA, JUAN CARLOS                MATIAS CASTRO\n",
       "337 2022-11-04     ZAMARGUILEA, MARIA CANDELA                         GAYF\n",
       "338 2023-06-21           ZAPAIA CESAR BELTRAN  ZAMARGUILEA, MARÍA CANDELA \n",
       "339 2025-05-21             ZEIDEL, SOFIA LARA                         GAYF\n",
       "340 2024-10-03          ZUNINO, DAMIAN CARLOS                         GAYF\n",
       "\n",
       "[341 rows x 3 columns]"
      ],
      "text/html": [
       "<div>\n",
       "<style scoped>\n",
       "    .dataframe tbody tr th:only-of-type {\n",
       "        vertical-align: middle;\n",
       "    }\n",
       "\n",
       "    .dataframe tbody tr th {\n",
       "        vertical-align: top;\n",
       "    }\n",
       "\n",
       "    .dataframe thead th {\n",
       "        text-align: right;\n",
       "    }\n",
       "</style>\n",
       "<table border=\"1\" class=\"dataframe\">\n",
       "  <thead>\n",
       "    <tr style=\"text-align: right;\">\n",
       "      <th></th>\n",
       "      <th>Fecha</th>\n",
       "      <th>Grupo Economico</th>\n",
       "      <th>Vendedor</th>\n",
       "    </tr>\n",
       "  </thead>\n",
       "  <tbody>\n",
       "    <tr>\n",
       "      <th>0</th>\n",
       "      <td>2025-05-17</td>\n",
       "      <td>FARMACIA KM 47,5 S. C. S</td>\n",
       "      <td>JUAN GONZALEZ ABELLA</td>\n",
       "    </tr>\n",
       "    <tr>\n",
       "      <th>1</th>\n",
       "      <td>2025-05-20</td>\n",
       "      <td>FARMACIA MARK SCS</td>\n",
       "      <td>JUAN GONZALEZ ABELLA</td>\n",
       "    </tr>\n",
       "    <tr>\n",
       "      <th>2</th>\n",
       "      <td>2025-05-17</td>\n",
       "      <td>FARMATODO ARGENTINA S.A</td>\n",
       "      <td>JUAN GONZALEZ ABELLA</td>\n",
       "    </tr>\n",
       "    <tr>\n",
       "      <th>3</th>\n",
       "      <td>2025-06-10</td>\n",
       "      <td>ACOFAR COOP.FARMACEUTICA LDA.</td>\n",
       "      <td>GATICA, MARCOS</td>\n",
       "    </tr>\n",
       "    <tr>\n",
       "      <th>4</th>\n",
       "      <td>2025-05-21</td>\n",
       "      <td>ACOSTA, CAMILA</td>\n",
       "      <td>GAYF</td>\n",
       "    </tr>\n",
       "    <tr>\n",
       "      <th>...</th>\n",
       "      <td>...</td>\n",
       "      <td>...</td>\n",
       "      <td>...</td>\n",
       "    </tr>\n",
       "    <tr>\n",
       "      <th>336</th>\n",
       "      <td>2023-04-12</td>\n",
       "      <td>ZABALA, JUAN CARLOS</td>\n",
       "      <td>MATIAS CASTRO</td>\n",
       "    </tr>\n",
       "    <tr>\n",
       "      <th>337</th>\n",
       "      <td>2022-11-04</td>\n",
       "      <td>ZAMARGUILEA, MARIA CANDELA</td>\n",
       "      <td>GAYF</td>\n",
       "    </tr>\n",
       "    <tr>\n",
       "      <th>338</th>\n",
       "      <td>2023-06-21</td>\n",
       "      <td>ZAPAIA CESAR BELTRAN</td>\n",
       "      <td>ZAMARGUILEA, MARÍA CANDELA</td>\n",
       "    </tr>\n",
       "    <tr>\n",
       "      <th>339</th>\n",
       "      <td>2025-05-21</td>\n",
       "      <td>ZEIDEL, SOFIA LARA</td>\n",
       "      <td>GAYF</td>\n",
       "    </tr>\n",
       "    <tr>\n",
       "      <th>340</th>\n",
       "      <td>2024-10-03</td>\n",
       "      <td>ZUNINO, DAMIAN CARLOS</td>\n",
       "      <td>GAYF</td>\n",
       "    </tr>\n",
       "  </tbody>\n",
       "</table>\n",
       "<p>341 rows × 3 columns</p>\n",
       "</div>"
      ]
     },
     "execution_count": 3,
     "metadata": {},
     "output_type": "execute_result"
    }
   ],
   "execution_count": 3
  },
  {
   "metadata": {},
   "cell_type": "code",
   "outputs": [],
   "execution_count": null,
   "source": "",
   "id": "c8cfbe8524ae7855"
  }
 ],
 "metadata": {
  "kernelspec": {
   "display_name": "Python 3",
   "language": "python",
   "name": "python3"
  },
  "language_info": {
   "codemirror_mode": {
    "name": "ipython",
    "version": 2
   },
   "file_extension": ".py",
   "mimetype": "text/x-python",
   "name": "python",
   "nbconvert_exporter": "python",
   "pygments_lexer": "ipython2",
   "version": "2.7.6"
  }
 },
 "nbformat": 4,
 "nbformat_minor": 5
}
